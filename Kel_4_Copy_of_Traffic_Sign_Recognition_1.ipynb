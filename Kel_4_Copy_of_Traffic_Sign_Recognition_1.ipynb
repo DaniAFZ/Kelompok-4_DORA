{
  "cells": [
    {
      "cell_type": "markdown",
      "metadata": {
        "id": "YeEd3v9mScqV"
      },
      "source": [
        "Dataset\n",
        "DATA :\n",
        "https://drive.google.com/drive/folders/1PIHOikInKitUTOTVVwUlGNkJf2-TaA1t?usp=share_link\n",
        "\n",
        "Label :\n",
        "https://drive.google.com/file/d/1TiYNL_kt43sy0E-L2X-eaQRHNIw1yDMb/view?usp=share_link"
      ]
    },
    {
      "cell_type": "code",
      "execution_count": null,
      "metadata": {
        "id": "Upe47rl4K6Ke"
      },
      "outputs": [],
      "source": [
        "import numpy as np\n",
        "import pandas as pd\n",
        "import os\n",
        "import matplotlib.pyplot as plt\n",
        "import seaborn as sns\n",
        "from PIL import Image\n",
        "from tensorflow import keras\n",
        "from tensorflow.keras import models, layers\n",
        "from tensorflow.keras.utils import to_categorical\n",
        "from sklearn.model_selection import train_test_split\n",
        "from sklearn.metrics import confusion_matrix, accuracy_score"
      ]
    },
    {
      "cell_type": "code",
      "execution_count": null,
      "metadata": {
        "colab": {
          "base_uri": "https://localhost:8080/"
        },
        "id": "H2hrclqwA2Mc",
        "outputId": "d59e0918-a806-4e98-8dc2-d7694cca6151"
      },
      "outputs": [
        {
          "output_type": "stream",
          "name": "stdout",
          "text": [
            "Mounted at /content/gdrive\n"
          ]
        }
      ],
      "source": [
        "from google.colab import drive\n",
        "drive.mount('/content/gdrive')"
      ]
    },
    {
      "cell_type": "code",
      "execution_count": null,
      "metadata": {
        "id": "aKiIOMBz3L8P"
      },
      "outputs": [],
      "source": [
        "imageDimensions = (32,32)\n",
        "testRatio = 0.2   #if  1000 images split 200 for testing \n",
        "validationRation = 0.2 #if 1000 images 20% of  800 will be 160 for validation"
      ]
    },
    {
      "cell_type": "code",
      "execution_count": null,
      "metadata": {
        "id": "_IvMbS69w9WH"
      },
      "outputs": [],
      "source": [
        "img_path = '/content/gdrive/MyDrive/Traffic Sign Dataset DORA/myData_rev 2'\n",
        "data_list = []\n",
        "labels_list = []\n",
        "classes_list = 30\n",
        "for i in range(classes_list):\n",
        "    i_path = os.path.join(img_path, str(i)) #0-29\n",
        "    for img in os.listdir(i_path):\n",
        "        im = Image.open(i_path +'/'+ img).convert('RGB')\n",
        "        im = im.resize((32,32))\n",
        "        im = np.array(im)\n",
        "        data_list.append(im)\n",
        "        labels_list.append(i)\n",
        "\n",
        "data = np.array(data_list)\n",
        "labels = np.array(labels_list)\n",
        "\n",
        "#17m"
      ]
    },
    {
      "cell_type": "code",
      "execution_count": null,
      "metadata": {
        "colab": {
          "base_uri": "https://localhost:8080/"
        },
        "id": "a9on24n4ahfa",
        "outputId": "9e58db8a-be57-4bdb-c900-829998e60d92"
      },
      "outputs": [
        {
          "output_type": "stream",
          "name": "stdout",
          "text": [
            "[ 0  0  0 ... 29 29 29]\n"
          ]
        }
      ],
      "source": [
        "print(labels)"
      ]
    },
    {
      "cell_type": "code",
      "execution_count": null,
      "metadata": {
        "colab": {
          "base_uri": "https://localhost:8080/",
          "height": 195
        },
        "id": "6fOd8NCGeXcZ",
        "outputId": "233ff601-0a67-4ef9-acb0-81a099e165d5"
      },
      "outputs": [
        {
          "output_type": "display_data",
          "data": {
            "text/plain": [
              "<Figure size 864x864 with 4 Axes>"
            ],
            "image/png": "[encoded data removed]"
          },
          "metadata": {
            "needs_background": "light"
          }
        }
      ],
      "source": [
        "plt.figure(figsize = (12,12))\n",
        "\n",
        "for i in range(4) :\n",
        "    plt.subplot(1, 4, i+1)\n",
        "    plt.imshow(data[i], cmap='gray')\n",
        "\n",
        "plt.show()"
      ]
    },
    {
      "cell_type": "code",
      "execution_count": null,
      "metadata": {
        "colab": {
          "base_uri": "https://localhost:8080/"
        },
        "id": "exBMN5Xwehm1",
        "outputId": "4070ae78-3d50-409f-ff78-a329c225e6fa"
      },
      "outputs": [
        {
          "output_type": "stream",
          "name": "stdout",
          "text": [
            "(1500, 32, 32, 3)\n",
            "[[[251 251 251]\n",
            "  [251 251 251]\n",
            "  [251 251 251]\n",
            "  ...\n",
            "  [251 251 251]\n",
            "  [251 251 251]\n",
            "  [251 251 251]]\n",
            "\n",
            " [[251 251 251]\n",
            "  [251 251 251]\n",
            "  [251 251 251]\n",
            "  ...\n",
            "  [251 251 251]\n",
            "  [251 251 251]\n",
            "  [251 251 251]]\n",
            "\n",
            " [[251 251 251]\n",
            "  [251 251 251]\n",
            "  [251 251 251]\n",
            "  ...\n",
            "  [251 251 251]\n",
            "  [251 251 251]\n",
            "  [251 251 251]]\n",
            "\n",
            " ...\n",
            "\n",
            " [[251 251 251]\n",
            "  [251 251 251]\n",
            "  [251 251 251]\n",
            "  ...\n",
            "  [251 251 251]\n",
            "  [251 251 251]\n",
            "  [251 251 251]]\n",
            "\n",
            " [[251 251 251]\n",
            "  [251 251 251]\n",
            "  [251 251 251]\n",
            "  ...\n",
            "  [251 251 251]\n",
            "  [251 251 251]\n",
            "  [251 251 251]]\n",
            "\n",
            " [[251 251 251]\n",
            "  [251 251 251]\n",
            "  [251 251 251]\n",
            "  ...\n",
            "  [251 251 251]\n",
            "  [251 251 251]\n",
            "  [251 251 251]]]\n",
            "uint8\n"
          ]
        }
      ],
      "source": [
        "print(data.shape)\n",
        "print(data[0])\n",
        "print(data.dtype)"
      ]
    },
    {
      "cell_type": "code",
      "execution_count": null,
      "metadata": {
        "id": "9flIgIu_v8mF"
      },
      "outputs": [],
      "source": [
        "def prep_dataset(X):\n",
        "  X_prep = X.astype('float32')\n",
        "  return (X_prep)\n",
        "\n",
        "X = prep_dataset(data)\n",
        "y = labels"
      ]
    },
    {
      "cell_type": "code",
      "execution_count": null,
      "metadata": {
        "colab": {
          "base_uri": "https://localhost:8080/"
        },
        "id": "tAyYvE2hcv4i",
        "outputId": "1ccfe206-7388-45d5-c081-f21a675fdc4d"
      },
      "outputs": [
        {
          "output_type": "stream",
          "name": "stdout",
          "text": [
            "[ 0  0  0 ... 29 29 29]\n"
          ]
        }
      ],
      "source": [
        "print(y)"
      ]
    },
    {
      "cell_type": "code",
      "execution_count": null,
      "metadata": {
        "id": "OXxa40zGsJ7h"
      },
      "outputs": [],
      "source": [
        "X_train, X_val, Y_train, Y_val = train_test_split(X,y, test_size=testRatio, shuffle=True)\n",
        "X_val, X_test, Y_val, Y_test = train_test_split(X_val,Y_val, test_size=validationRation, shuffle=True)"
      ]
    },
    {
      "cell_type": "code",
      "execution_count": null,
      "metadata": {
        "colab": {
          "base_uri": "https://localhost:8080/"
        },
        "id": "GVBnvUGK39ZH",
        "outputId": "01e45dab-6d9c-4a10-ba2d-be6006c94e6b"
      },
      "outputs": [
        {
          "output_type": "stream",
          "name": "stdout",
          "text": [
            "Data Shapes\n",
            "Train(1200, 32, 32, 3) (1200,)\n",
            "Validation(240, 32, 32, 3) (240,)\n",
            "Test(60, 32, 32, 3) (60,)\n"
          ]
        }
      ],
      "source": [
        "print(\"Data Shapes\")\n",
        "print(\"Train\", end=\"\");print(X_train.shape,Y_train.shape)\n",
        "print(\"Validation\",end=\"\");print(X_val.shape,Y_val.shape)\n",
        "print(\"Test\",end=\"\"); print(X_test.shape , Y_test.shape)\n",
        "\n",
        "assert(X_train.shape[0] == Y_train.shape[0]),\"The number of images in not equal to the number of labels in training set\"\n",
        "assert(X_val.shape[0] == Y_val.shape[0]),\"The number of images in not equal to the number of labels validation set\"\n",
        "assert(X_test.shape[0] == Y_test.shape[0]),\"The number of images in not equal to the number of labels test set\"\n",
        "# assert(X_train.shape[1:]== (imageDimensions)), \"The dimension of the Training images are wrong\"\n",
        "# assert(X_val.shape[1:]==(imageDimensions)),\"The dimension of the Validation images are wrong\"\n",
        "# assert(X_test.shape[1:]== imageDimensions),\"The dimension of test images aste wrong\""
      ]
    },
    {
      "cell_type": "code",
      "execution_count": null,
      "metadata": {
        "colab": {
          "base_uri": "https://localhost:8080/"
        },
        "id": "ZXf9RTSug3z0",
        "outputId": "fcbd1ce1-691f-4d1d-a467-5522253e7466"
      },
      "outputs": [
        {
          "output_type": "stream",
          "name": "stdout",
          "text": [
            "Label Shape:  (30, 2) <class 'pandas.core.frame.DataFrame'>\n"
          ]
        }
      ],
      "source": [
        "label = pd.read_csv('/content/gdrive/MyDrive/Traffic Sign Dataset DORA/labels (1).csv', encoding=\"ISO-8859-1\")\n",
        "print(\"Label Shape: \",label.shape, type(label))"
      ]
    },
    {
      "cell_type": "code",
      "execution_count": null,
      "metadata": {
        "colab": {
          "base_uri": "https://localhost:8080/",
          "height": 990
        },
        "id": "c2wxrTp6RYCb",
        "outputId": "50825517-7a1b-447d-e411-52d39755e1a5"
      },
      "outputs": [
        {
          "output_type": "execute_result",
          "data": {
            "text/plain": [
              "    Classid                                               Nama\n",
              "0         0  Peringatan Penyempitan Badan Jalan di Bagian K...\n",
              "1         1  Peringatan Penyempitan Badan Jalan di Bagian Kiri\n",
              "2         2        Peringatan Penyempitan Bagan Jalan Tertentu\n",
              "3         3              Peringatan Permukaan Jalan yang Licin\n",
              "4         4         Peringatan Banyak Lalu Lintas Pejalan Kaki\n",
              "5         5  Peringatan Banyak Lalu Lintas Pejalan Kaki Ana...\n",
              "6         6  Larangan Berjalan Terus karena Wajib Berhenti ...\n",
              "7         7                   Larangan Masuk bagi Sepeda Motor\n",
              "8         8                          Batas Kecepatan 40 Km/Jam\n",
              "9         9                        Perintah Belok ke Arah Kiri\n",
              "10       10                       Perintah Belok ke Arah Kanan\n",
              "11       11                            Perintah Berjalan Lurus\n",
              "12       12  Perintah Menggunakan Jalur atau Lajur Lalu Lin...\n",
              "13       13  Perintah Menggunakan Jalur atau Lajur Lalu Lin...\n",
              "14       14                  Peringatan Tikungan Tajam ke Kiri\n",
              "15       15                 Peringatan Tikungan Tajam ke Kanan\n",
              "16       16                          Peringatan Turunan Landai\n",
              "17       17                           Peringatan Turunan Curam\n",
              "18       18   Peringatan Pintu Perlintasan Sebidang Kereta Api\n",
              "19       19                         Larangan Masuk bagi Sepeda\n",
              "20       20                                  Larangan Berhenti\n",
              "21       21                                    Larangan Parkir\n",
              "22       22                            Larangan Berjalan Terus\n",
              "23       23                                Larangan Belok Kiri\n",
              "24       24                               Larangan Belok Kanan\n",
              "25       25                             Larangan Memutar Balik\n",
              "26       26  Petunjuk Lokasi Fasilitas Penyeberangan Pejala...\n",
              "27       27                   Petunjuk Lokasi Fasilitas Parkir\n",
              "28       28                               Petunjuk Lokasi SPBU\n",
              "29       29                        Petunjuk Lokasi Putar Balik"
            ],
            "text/html": [
              "\n",
              "  <div id=\"df-08c6ed0b-4c02-48a3-8abd-1a0ed3ec6154\">\n",
              "    <div class=\"colab-df-container\">\n",
              "      <div>\n",
              "<style scoped>\n",
              "    .dataframe tbody tr th:only-of-type {\n",
              "        vertical-align: middle;\n",
              "    }\n",
              "\n",
              "    .dataframe tbody tr th {\n",
              "        vertical-align: top;\n",
              "    }\n",
              "\n",
              "    .dataframe thead th {\n",
              "        text-align: right;\n",
              "    }\n",
              "</style>\n",
              "<table border=\"1\" class=\"dataframe\">\n",
              "  <thead>\n",
              "    <tr style=\"text-align: right;\">\n",
              "      <th></th>\n",
              "      <th>Classid</th>\n",
              "      <th>Nama</th>\n",
              "    </tr>\n",
              "  </thead>\n",
              "  <tbody>\n",
              "    <tr>\n",
              "      <th>0</th>\n",
              "      <td>0</td>\n",
              "      <td>Peringatan Penyempitan Badan Jalan di Bagian K...</td>\n",
              "    </tr>\n",
              "    <tr>\n",
              "      <th>1</th>\n",
              "      <td>1</td>\n",
              "      <td>Peringatan Penyempitan Badan Jalan di Bagian Kiri</td>\n",
              "    </tr>\n",
              "    <tr>\n",
              "      <th>2</th>\n",
              "      <td>2</td>\n",
              "      <td>Peringatan Penyempitan Bagan Jalan Tertentu</td>\n",
              "    </tr>\n",
              "    <tr>\n",
              "      <th>3</th>\n",
              "      <td>3</td>\n",
              "      <td>Peringatan Permukaan Jalan yang Licin</td>\n",
              "    </tr>\n",
              "    <tr>\n",
              "      <th>4</th>\n",
              "      <td>4</td>\n",
              "      <td>Peringatan Banyak Lalu Lintas Pejalan Kaki</td>\n",
              "    </tr>\n",
              "    <tr>\n",
              "      <th>5</th>\n",
              "      <td>5</td>\n",
              "      <td>Peringatan Banyak Lalu Lintas Pejalan Kaki Ana...</td>\n",
              "    </tr>\n",
              "    <tr>\n",
              "      <th>6</th>\n",
              "      <td>6</td>\n",
              "      <td>Larangan Berjalan Terus karena Wajib Berhenti ...</td>\n",
              "    </tr>\n",
              "    <tr>\n",
              "      <th>7</th>\n",
              "      <td>7</td>\n",
              "      <td>Larangan Masuk bagi Sepeda Motor</td>\n",
              "    </tr>\n",
              "    <tr>\n",
              "      <th>8</th>\n",
              "      <td>8</td>\n",
              "      <td>Batas Kecepatan 40 Km/Jam</td>\n",
              "    </tr>\n",
              "    <tr>\n",
              "      <th>9</th>\n",
              "      <td>9</td>\n",
              "      <td>Perintah Belok ke Arah Kiri</td>\n",
              "    </tr>\n",
              "    <tr>\n",
              "      <th>10</th>\n",
              "      <td>10</td>\n",
              "      <td>Perintah Belok ke Arah Kanan</td>\n",
              "    </tr>\n",
              "    <tr>\n",
              "      <th>11</th>\n",
              "      <td>11</td>\n",
              "      <td>Perintah Berjalan Lurus</td>\n",
              "    </tr>\n",
              "    <tr>\n",
              "      <th>12</th>\n",
              "      <td>12</td>\n",
              "      <td>Perintah Menggunakan Jalur atau Lajur Lalu Lin...</td>\n",
              "    </tr>\n",
              "    <tr>\n",
              "      <th>13</th>\n",
              "      <td>13</td>\n",
              "      <td>Perintah Menggunakan Jalur atau Lajur Lalu Lin...</td>\n",
              "    </tr>\n",
              "    <tr>\n",
              "      <th>14</th>\n",
              "      <td>14</td>\n",
              "      <td>Peringatan Tikungan Tajam ke Kiri</td>\n",
              "    </tr>\n",
              "    <tr>\n",
              "      <th>15</th>\n",
              "      <td>15</td>\n",
              "      <td>Peringatan Tikungan Tajam ke Kanan</td>\n",
              "    </tr>\n",
              "    <tr>\n",
              "      <th>16</th>\n",
              "      <td>16</td>\n",
              "      <td>Peringatan Turunan Landai</td>\n",
              "    </tr>\n",
              "    <tr>\n",
              "      <th>17</th>\n",
              "      <td>17</td>\n",
              "      <td>Peringatan Turunan Curam</td>\n",
              "    </tr>\n",
              "    <tr>\n",
              "      <th>18</th>\n",
              "      <td>18</td>\n",
              "      <td>Peringatan Pintu Perlintasan Sebidang Kereta Api</td>\n",
              "    </tr>\n",
              "    <tr>\n",
              "      <th>19</th>\n",
              "      <td>19</td>\n",
              "      <td>Larangan Masuk bagi Sepeda</td>\n",
              "    </tr>\n",
              "    <tr>\n",
              "      <th>20</th>\n",
              "      <td>20</td>\n",
              "      <td>Larangan Berhenti</td>\n",
              "    </tr>\n",
              "    <tr>\n",
              "      <th>21</th>\n",
              "      <td>21</td>\n",
              "      <td>Larangan Parkir</td>\n",
              "    </tr>\n",
              "    <tr>\n",
              "      <th>22</th>\n",
              "      <td>22</td>\n",
              "      <td>Larangan Berjalan Terus</td>\n",
              "    </tr>\n",
              "    <tr>\n",
              "      <th>23</th>\n",
              "      <td>23</td>\n",
              "      <td>Larangan Belok Kiri</td>\n",
              "    </tr>\n",
              "    <tr>\n",
              "      <th>24</th>\n",
              "      <td>24</td>\n",
              "      <td>Larangan Belok Kanan</td>\n",
              "    </tr>\n",
              "    <tr>\n",
              "      <th>25</th>\n",
              "      <td>25</td>\n",
              "      <td>Larangan Memutar Balik</td>\n",
              "    </tr>\n",
              "    <tr>\n",
              "      <th>26</th>\n",
              "      <td>26</td>\n",
              "      <td>Petunjuk Lokasi Fasilitas Penyeberangan Pejala...</td>\n",
              "    </tr>\n",
              "    <tr>\n",
              "      <th>27</th>\n",
              "      <td>27</td>\n",
              "      <td>Petunjuk Lokasi Fasilitas Parkir</td>\n",
              "    </tr>\n",
              "    <tr>\n",
              "      <th>28</th>\n",
              "      <td>28</td>\n",
              "      <td>Petunjuk Lokasi SPBU</td>\n",
              "    </tr>\n",
              "    <tr>\n",
              "      <th>29</th>\n",
              "      <td>29</td>\n",
              "      <td>Petunjuk Lokasi Putar Balik</td>\n",
              "    </tr>\n",
              "  </tbody>\n",
              "</table>\n",
              "</div>\n",
              "      <button class=\"colab-df-convert\" onclick=\"convertToInteractive('df-08c6ed0b-4c02-48a3-8abd-1a0ed3ec6154')\"\n",
              "              title=\"Convert this dataframe to an interactive table.\"\n",
              "              style=\"display:none;\">\n",
              "        \n",
              "  <svg xmlns=\"http://www.w3.org/2000/svg\" height=\"24px\"viewBox=\"0 0 24 24\"\n",
              "       width=\"24px\">\n",
              "    <path d=\"M0 0h24v24H0V0z\" fill=\"none\"/>\n",
              "    <path d=\"M18.56 5.44l.94 2.06.94-2.06 2.06-.94-2.06-.94-.94-2.06-.94 2.06-2.06.94zm-11 1L8.5 8.5l.94-2.06 2.06-.94-2.06-.94L8.5 2.5l-.94 2.06-2.06.94zm10 10l.94 2.06.94-2.06 2.06-.94-2.06-.94-.94-2.06-.94 2.06-2.06.94z\"/><path d=\"M17.41 7.96l-1.37-1.37c-.4-.4-.92-.59-1.43-.59-.52 0-1.04.2-1.43.59L10.3 9.45l-7.72 7.72c-.78.78-.78 2.05 0 2.83L4 21.41c.39.39.9.59 1.41.59.51 0 1.02-.2 1.41-.59l7.78-7.78 2.81-2.81c.8-.78.8-2.07 0-2.86zM5.41 20L4 18.59l7.72-7.72 1.47 1.35L5.41 20z\"/>\n",
              "  </svg>\n",
              "      </button>\n",
              "      \n",
              "  <style>\n",
              "    .colab-df-container {\n",
              "      display:flex;\n",
              "      flex-wrap:wrap;\n",
              "      gap: 12px;\n",
              "    }\n",
              "\n",
              "    .colab-df-convert {\n",
              "      background-color: #E8F0FE;\n",
              "      border: none;\n",
              "      border-radius: 50%;\n",
              "      cursor: pointer;\n",
              "      display: none;\n",
              "      fill: #1967D2;\n",
              "      height: 32px;\n",
              "      padding: 0 0 0 0;\n",
              "      width: 32px;\n",
              "    }\n",
              "\n",
              "    .colab-df-convert:hover {\n",
              "      background-color: #E2EBFA;\n",
              "      box-shadow: 0px 1px 2px rgba(60, 64, 67, 0.3), 0px 1px 3px 1px rgba(60, 64, 67, 0.15);\n",
              "      fill: #174EA6;\n",
              "    }\n",
              "\n",
              "    [theme=dark] .colab-df-convert {\n",
              "      background-color: #3B4455;\n",
              "      fill: #D2E3FC;\n",
              "    }\n",
              "\n",
              "    [theme=dark] .colab-df-convert:hover {\n",
              "      background-color: #434B5C;\n",
              "      box-shadow: 0px 1px 3px 1px rgba(0, 0, 0, 0.15);\n",
              "      filter: drop-shadow(0px 1px 2px rgba(0, 0, 0, 0.3));\n",
              "      fill: #FFFFFF;\n",
              "    }\n",
              "  </style>\n",
              "\n",
              "      <script>\n",
              "        const buttonEl =\n",
              "          document.querySelector('#df-08c6ed0b-4c02-48a3-8abd-1a0ed3ec6154 button.colab-df-convert');\n",
              "        buttonEl.style.display =\n",
              "          google.colab.kernel.accessAllowed ? 'block' : 'none';\n",
              "\n",
              "        async function convertToInteractive(key) {\n",
              "          const element = document.querySelector('#df-08c6ed0b-4c02-48a3-8abd-1a0ed3ec6154');\n",
              "          const dataTable =\n",
              "            await google.colab.kernel.invokeFunction('convertToInteractive',\n",
              "                                                     [key], {});\n",
              "          if (!dataTable) return;\n",
              "\n",
              "          const docLinkHtml = 'Like what you see? Visit the ' +\n",
              "            '<a target=\"_blank\" href=https://colab.research.google.com/notebooks/data_table.ipynb>data table notebook</a>'\n",
              "            + ' to learn more about interactive tables.';\n",
              "          element.innerHTML = '';\n",
              "          dataTable['output_type'] = 'display_data';\n",
              "          await google.colab.output.renderOutput(dataTable, element);\n",
              "          const docLink = document.createElement('div');\n",
              "          docLink.innerHTML = docLinkHtml;\n",
              "          element.appendChild(docLink);\n",
              "        }\n",
              "      </script>\n",
              "    </div>\n",
              "  </div>\n",
              "  "
            ]
          },
          "metadata": {},
          "execution_count": 13
        }
      ],
      "source": [
        "label"
      ]
    },
    {
      "cell_type": "code",
      "execution_count": null,
      "metadata": {
        "colab": {
          "base_uri": "https://localhost:8080/",
          "height": 578
        },
        "id": "hpXRoT_-4KXb",
        "outputId": "3295c515-f2db-4f3f-957c-1e36187460ba"
      },
      "outputs": [
        {
          "output_type": "stream",
          "name": "stderr",
          "text": [
            "WARNING:matplotlib.image:Clipping input data to the valid range for imshow with RGB data ([0..1] for floats or [0..255] for integers).\n",
            "WARNING:matplotlib.image:Clipping input data to the valid range for imshow with RGB data ([0..1] for floats or [0..255] for integers).\n",
            "WARNING:matplotlib.image:Clipping input data to the valid range for imshow with RGB data ([0..1] for floats or [0..255] for integers).\n",
            "WARNING:matplotlib.image:Clipping input data to the valid range for imshow with RGB data ([0..1] for floats or [0..255] for integers).\n",
            "WARNING:matplotlib.image:Clipping input data to the valid range for imshow with RGB data ([0..1] for floats or [0..255] for integers).\n",
            "WARNING:matplotlib.image:Clipping input data to the valid range for imshow with RGB data ([0..1] for floats or [0..255] for integers).\n",
            "WARNING:matplotlib.image:Clipping input data to the valid range for imshow with RGB data ([0..1] for floats or [0..255] for integers).\n",
            "WARNING:matplotlib.image:Clipping input data to the valid range for imshow with RGB data ([0..1] for floats or [0..255] for integers).\n",
            "WARNING:matplotlib.image:Clipping input data to the valid range for imshow with RGB data ([0..1] for floats or [0..255] for integers).\n",
            "WARNING:matplotlib.image:Clipping input data to the valid range for imshow with RGB data ([0..1] for floats or [0..255] for integers).\n",
            "WARNING:matplotlib.image:Clipping input data to the valid range for imshow with RGB data ([0..1] for floats or [0..255] for integers).\n",
            "WARNING:matplotlib.image:Clipping input data to the valid range for imshow with RGB data ([0..1] for floats or [0..255] for integers).\n",
            "WARNING:matplotlib.image:Clipping input data to the valid range for imshow with RGB data ([0..1] for floats or [0..255] for integers).\n",
            "WARNING:matplotlib.image:Clipping input data to the valid range for imshow with RGB data ([0..1] for floats or [0..255] for integers).\n",
            "WARNING:matplotlib.image:Clipping input data to the valid range for imshow with RGB data ([0..1] for floats or [0..255] for integers).\n",
            "WARNING:matplotlib.image:Clipping input data to the valid range for imshow with RGB data ([0..1] for floats or [0..255] for integers).\n",
            "WARNING:matplotlib.image:Clipping input data to the valid range for imshow with RGB data ([0..1] for floats or [0..255] for integers).\n",
            "WARNING:matplotlib.image:Clipping input data to the valid range for imshow with RGB data ([0..1] for floats or [0..255] for integers).\n",
            "WARNING:matplotlib.image:Clipping input data to the valid range for imshow with RGB data ([0..1] for floats or [0..255] for integers).\n",
            "WARNING:matplotlib.image:Clipping input data to the valid range for imshow with RGB data ([0..1] for floats or [0..255] for integers).\n"
          ]
        },
        {
          "output_type": "display_data",
          "data": {
            "text/plain": [
              "<Figure size 2520x432 with 20 Axes>"
            ],
            "image/png": "[encoded data removed]"
          },
          "metadata": {
            "needs_background": "light"
          }
        }
      ],
      "source": [
        "plt.figure(figsize=(35,6))\n",
        "for i in range(20):\n",
        "    plt.subplot(2,10,i+1)\n",
        "    plt.imshow(X_train[i])\n",
        "    plt.title(\"{}\".format(label.Nama[Y_train[i]]))    \n",
        "    plt.axis(\"off\")"
      ]
    },
    {
      "cell_type": "code",
      "execution_count": null,
      "metadata": {
        "colab": {
          "base_uri": "https://localhost:8080/",
          "height": 295
        },
        "id": "XnB6HRXU4djI",
        "outputId": "921cb8b5-3230-4a8f-b46b-8e826e11b70e"
      },
      "outputs": [
        {
          "output_type": "display_data",
          "data": {
            "text/plain": [
              "<Figure size 864x288 with 1 Axes>"
            ],
            "image/png": "[encoded data removed]"
          },
          "metadata": {
            "needs_background": "light"
          }
        }
      ],
      "source": [
        "plt.figure(figsize=(12,4))\n",
        "plt.hist(labels, bins=len(label.Classid))\n",
        "plt.title(\"Distribution of the training dataset\")\n",
        "plt.xlabel(\"Class Number\")\n",
        "plt.ylabel(\"Number of images\")\n",
        "plt.show()"
      ]
    },
    {
      "cell_type": "code",
      "execution_count": null,
      "metadata": {
        "id": "NnzVsJwTi9Js"
      },
      "outputs": [],
      "source": [
        "X_train = X_train.astype(np.uint8)\n",
        "X_val = X_val.astype(np.uint8)\n",
        "X_test = X_test.astype(np.uint8)"
      ]
    },
    {
      "cell_type": "code",
      "execution_count": null,
      "metadata": {
        "colab": {
          "base_uri": "https://localhost:8080/",
          "height": 545
        },
        "id": "Jd5xEn1Zga7o",
        "outputId": "b226315c-d114-415c-982e-0407c250e31f"
      },
      "outputs": [
        {
          "output_type": "display_data",
          "data": {
            "text/plain": [
              "<Figure size 432x288 with 1 Axes>"
            ],
            "image/png": "[encoded data removed]"
          },
          "metadata": {
            "needs_background": "light"
          }
        },
        {
          "output_type": "display_data",
          "data": {
            "text/plain": [
              "<Figure size 432x288 with 1 Axes>"
            ],
            "image/png": "[encoded data removed]"
          },
          "metadata": {
            "needs_background": "light"
          }
        }
      ],
      "source": [
        "import random\n",
        "import cv2\n",
        "\n",
        "def equalize(img):\n",
        "    # grayimg = cv2.cvtColor(img, cv2.COLOR_BGR2HSV)\n",
        "    grayimg = cv2.cvtColor(img, cv2.COLOR_BGR2GRAY)\n",
        "    grayimg = cv2.equalizeHist(grayimg)\n",
        "    return grayimg \n",
        "\n",
        "rand_num = random.randint(0,len(X_train)-1)\n",
        "plt.imshow(X_train[rand_num])\n",
        "plt.title(\"GrayScale Images {}\".format(label.Nama[Y_train[rand_num]]))\n",
        "plt.show()\n",
        "\n",
        " \n",
        "X_train = np.array(list(map(equalize, X_train)))\n",
        "X_validation = np.array(list(map(equalize, X_val)))\n",
        "X_test = np.array(list(map(equalize, X_test)))\n",
        "plt.imshow(X_train[rand_num])\n",
        "plt.title(\"GrayScale Images {}\".format(label.Nama[Y_train[rand_num]]))\n",
        "plt.show()"
      ]
    },
    {
      "cell_type": "code",
      "execution_count": null,
      "metadata": {
        "id": "kIh2lO97fQzt"
      },
      "outputs": [],
      "source": [
        "X_train = X_train.reshape(X_train.shape[0], X_train.shape[1],X_train.shape[2],1)\n",
        "X_val = X_val.reshape(X_val.shape[0], X_val.shape[1],X_val.shape[2],3)\n",
        "X_test = X_test.reshape(X_test.shape[0], X_test.shape[1],X_test.shape[2],1)"
      ]
    },
    {
      "cell_type": "code",
      "execution_count": null,
      "metadata": {
        "id": "e32GXGSWfgwd"
      },
      "outputs": [],
      "source": [
        "from keras.preprocessing.image import ImageDataGenerator\n",
        "dataGen = ImageDataGenerator(width_shift_range=0.1, \n",
        "                            height_shift_range=0.1,\n",
        "                            zoom_range=0.2,\n",
        "                            shear_range=0.1,\n",
        "                            rotation_range=10)\n",
        "dataGen.fit(X_train)\n",
        "batches = dataGen.flow(X_train, Y_train, batch_size=20)\n",
        "X_batch, y_batch = next(batches)"
      ]
    },
    {
      "cell_type": "code",
      "execution_count": null,
      "metadata": {
        "colab": {
          "base_uri": "https://localhost:8080/",
          "height": 77
        },
        "id": "D5muDlXLfwsm",
        "outputId": "839ee0c0-83d7-401e-f98b-5890372b656c"
      },
      "outputs": [
        {
          "output_type": "display_data",
          "data": {
            "text/plain": [
              "<Figure size 1440x360 with 15 Axes>"
            ],
            "image/png": "[encoded data removed]"
          },
          "metadata": {
            "needs_background": "light"
          }
        }
      ],
      "source": [
        "fig, axs = plt.subplots(1,15, figsize= (20,5))\n",
        "fig.tight_layout()\n",
        "\n",
        "for i in range(15):\n",
        "    axs[i].imshow(X_batch[i].reshape(32,32))\n",
        "    axs[i].axis('off')\n",
        "plt.show()"
      ]
    },
    {
      "cell_type": "code",
      "execution_count": null,
      "metadata": {
        "colab": {
          "base_uri": "https://localhost:8080/"
        },
        "id": "Nq-WUnEd9smb",
        "outputId": "2efc0893-4eb8-46c3-aa3d-3197dbe2ed7d"
      },
      "outputs": [
        {
          "output_type": "stream",
          "name": "stdout",
          "text": [
            "Data Shapes\n",
            "Train(1200, 32, 32, 1) (1200,)\n",
            "Validation(240, 32, 32, 3) (240,)\n",
            "Test(60, 32, 32, 1) (60,)\n"
          ]
        }
      ],
      "source": [
        "print(\"Data Shapes\")\n",
        "print(\"Train\", end=\"\");print(X_train.shape,Y_train.shape)\n",
        "print(\"Validation\",end=\"\");print(X_val.shape,Y_val.shape)\n",
        "print(\"Test\",end=\"\"); print(X_test.shape , Y_test.shape)"
      ]
    },
    {
      "cell_type": "code",
      "execution_count": null,
      "metadata": {
        "colab": {
          "base_uri": "https://localhost:8080/"
        },
        "id": "ALEWbP_Ns4Cs",
        "outputId": "be4ece3b-db79-4827-9f51-1b5e0067cdce"
      },
      "outputs": [
        {
          "output_type": "stream",
          "name": "stdout",
          "text": [
            "Model: \"sequential\"\n",
            "_________________________________________________________________\n",
            " Layer (type)                Output Shape              Param #   \n",
            "=================================================================\n",
            " conv2d (Conv2D)             (None, 32, 32, 32)        544       \n",
            "                                                                 \n",
            " max_pooling2d (MaxPooling2D  (None, 16, 16, 32)       0         \n",
            " )                                                               \n",
            "                                                                 \n",
            " batch_normalization (BatchN  (None, 16, 16, 32)       128       \n",
            " ormalization)                                                   \n",
            "                                                                 \n",
            " dropout (Dropout)           (None, 16, 16, 32)        0         \n",
            "                                                                 \n",
            " conv2d_1 (Conv2D)           (None, 16, 16, 128)       65664     \n",
            "                                                                 \n",
            " max_pooling2d_1 (MaxPooling  (None, 8, 8, 128)        0         \n",
            " 2D)                                                             \n",
            "                                                                 \n",
            " batch_normalization_1 (Batc  (None, 8, 8, 128)        512       \n",
            " hNormalization)                                                 \n",
            "                                                                 \n",
            " dropout_1 (Dropout)         (None, 8, 8, 128)         0         \n",
            "                                                                 \n",
            " conv2d_2 (Conv2D)           (None, 8, 8, 512)         1049088   \n",
            "                                                                 \n",
            " dropout_2 (Dropout)         (None, 8, 8, 512)         0         \n",
            "                                                                 \n",
            " conv2d_3 (Conv2D)           (None, 8, 8, 512)         4194816   \n",
            "                                                                 \n",
            " max_pooling2d_2 (MaxPooling  (None, 4, 4, 512)        0         \n",
            " 2D)                                                             \n",
            "                                                                 \n",
            " batch_normalization_2 (Batc  (None, 4, 4, 512)        2048      \n",
            " hNormalization)                                                 \n",
            "                                                                 \n",
            " flatten (Flatten)           (None, 8192)              0         \n",
            "                                                                 \n",
            " dense (Dense)               (None, 4000)              32772000  \n",
            "                                                                 \n",
            " dense_1 (Dense)             (None, 4000)              16004000  \n",
            "                                                                 \n",
            " dense_2 (Dense)             (None, 1000)              4001000   \n",
            "                                                                 \n",
            " dense_3 (Dense)             (None, 43)                43043     \n",
            "                                                                 \n",
            "=================================================================\n",
            "Total params: 58,132,843\n",
            "Trainable params: 58,131,499\n",
            "Non-trainable params: 1,344\n",
            "_________________________________________________________________\n"
          ]
        }
      ],
      "source": [
        "model = models.Sequential() #Sequential Model\n",
        "\n",
        "#ConvLayer(64 filters) + MaxPooling + BatchNormalization + Dropout\n",
        "model.add(layers.Conv2D(filters=32,kernel_size=4,activation='relu',padding='same',input_shape=(32,32,1)))\n",
        "model.add(layers.MaxPool2D(strides=2))\n",
        "model.add(layers.BatchNormalization())\n",
        "model.add(layers.Dropout(0.3))\n",
        "\n",
        "#ConvLayer(128 filters) + MaxPooling + BatchNormalization + Dropout\n",
        "model.add(layers.Conv2D(filters=128,kernel_size=4,activation='relu',padding='same'))\n",
        "model.add(layers.MaxPool2D(strides=2))\n",
        "model.add(layers.BatchNormalization())\n",
        "model.add(layers.Dropout(0.3))\n",
        "\n",
        "#ConvLayer(512 filters) + Dropout + ConvLayer(512 filters) + MaxPooling + BatchNormalization\n",
        "model.add(layers.Conv2D(filters=512,kernel_size=4,activation='relu',padding='same'))\n",
        "model.add(layers.Dropout(0.3))\n",
        "model.add(layers.Conv2D(filters=512,kernel_size=4,activation='relu',padding='same'))\n",
        "model.add(layers.MaxPool2D(strides=2))\n",
        "model.add(layers.BatchNormalization())\n",
        "\n",
        "#Flatten\n",
        "model.add(layers.Flatten())\n",
        "\n",
        "#2 Dense layers with 4000 hidden units\n",
        "model.add(layers.Dense(4000,activation='relu'))\n",
        "model.add(layers.Dense(4000,activation='relu'))\n",
        "\n",
        "#Dense layer with 1000 hidden units\n",
        "model.add(layers.Dense(1000,activation='relu'))\n",
        "\n",
        "#Softmax layer for output\n",
        "model.add(layers.Dense(43,activation='softmax'))\n",
        "\n",
        "model.summary()"
      ]
    },
    {
      "cell_type": "code",
      "execution_count": null,
      "metadata": {
        "id": "qE5xAgVXtc6W"
      },
      "outputs": [],
      "source": [
        "#hyperparameter tuning\n",
        "model.compile(optimizer='adam',\n",
        "             loss='sparse_categorical_crossentropy',\n",
        "             metrics=['accuracy'])"
      ]
    },
    {
      "cell_type": "code",
      "execution_count": null,
      "metadata": {
        "colab": {
          "base_uri": "https://localhost:8080/"
        },
        "id": "eZ704j2yKRDR",
        "outputId": "5e153c15-bc51-4d7d-92ab-51992347733e"
      },
      "outputs": [
        {
          "output_type": "stream",
          "name": "stdout",
          "text": [
            "Epoch 1/15\n",
            "19/19 [==============================] - 62s 3s/step - loss: 4.4001 - accuracy: 0.1275 - val_loss: 71.6375 - val_accuracy: 0.0167\n",
            "Epoch 2/15\n",
            "19/19 [==============================] - 56s 3s/step - loss: 2.3110 - accuracy: 0.3400 - val_loss: 51.1212 - val_accuracy: 0.0167\n",
            "Epoch 3/15\n",
            "19/19 [==============================] - 57s 3s/step - loss: 1.4260 - accuracy: 0.5675 - val_loss: 19.0446 - val_accuracy: 0.0167\n",
            "Epoch 4/15\n",
            "19/19 [==============================] - 57s 3s/step - loss: 0.8566 - accuracy: 0.7308 - val_loss: 7.0277 - val_accuracy: 0.0167\n",
            "Epoch 5/15\n",
            "19/19 [==============================] - 56s 3s/step - loss: 0.5899 - accuracy: 0.8183 - val_loss: 3.9524 - val_accuracy: 0.1500\n",
            "Epoch 6/15\n",
            "19/19 [==============================] - 55s 3s/step - loss: 0.3789 - accuracy: 0.8750 - val_loss: 2.6042 - val_accuracy: 0.2833\n",
            "Epoch 7/15\n",
            "19/19 [==============================] - 54s 3s/step - loss: 0.2871 - accuracy: 0.9167 - val_loss: 1.3560 - val_accuracy: 0.5833\n",
            "Epoch 8/15\n",
            "19/19 [==============================] - 56s 3s/step - loss: 0.2129 - accuracy: 0.9425 - val_loss: 1.0257 - val_accuracy: 0.7667\n",
            "Epoch 9/15\n",
            "19/19 [==============================] - 56s 3s/step - loss: 0.1777 - accuracy: 0.9425 - val_loss: 1.2640 - val_accuracy: 0.7167\n",
            "Epoch 10/15\n",
            "19/19 [==============================] - 56s 3s/step - loss: 0.1413 - accuracy: 0.9583 - val_loss: 0.6538 - val_accuracy: 0.8000\n",
            "Epoch 11/15\n",
            "19/19 [==============================] - 58s 3s/step - loss: 0.1289 - accuracy: 0.9500 - val_loss: 0.7705 - val_accuracy: 0.8333\n",
            "Epoch 12/15\n",
            "19/19 [==============================] - 55s 3s/step - loss: 0.1862 - accuracy: 0.9517 - val_loss: 0.7642 - val_accuracy: 0.8500\n",
            "Epoch 13/15\n",
            "19/19 [==============================] - 55s 3s/step - loss: 0.1461 - accuracy: 0.9567 - val_loss: 0.5284 - val_accuracy: 0.8333\n",
            "Epoch 14/15\n",
            "19/19 [==============================] - 57s 3s/step - loss: 0.1851 - accuracy: 0.9467 - val_loss: 0.8967 - val_accuracy: 0.7667\n",
            "Epoch 15/15\n",
            "19/19 [==============================] - 56s 3s/step - loss: 0.1170 - accuracy: 0.9617 - val_loss: 0.4307 - val_accuracy: 0.9333\n"
          ]
        }
      ],
      "source": [
        "history= model.fit(X_train,Y_train, epochs=15, batch_size=64, validation_data=(X_test, Y_test))"
      ]
    },
    {
      "cell_type": "code",
      "source": [
        "from google.colab import drive\n",
        "drive.mount('/content/drive')"
      ],
      "metadata": {
        "colab": {
          "base_uri": "https://localhost:8080/"
        },
        "id": "-U_Jdg4f97WC",
        "outputId": "45129eb6-bda9-4bff-94e7-bcaebed06858"
      },
      "execution_count": null,
      "outputs": [
        {
          "output_type": "stream",
          "name": "stdout",
          "text": [
            "Mounted at /content/drive\n"
          ]
        }
      ]
    },
    {
      "cell_type": "code",
      "execution_count": null,
      "metadata": {
        "id": "bpEERFmH1wtg",
        "colab": {
          "base_uri": "https://localhost:8080/",
          "height": 312
        },
        "outputId": "bc9ba2cd-d0e4-4560-c73d-97832fdd33e6"
      },
      "outputs": [
        {
          "output_type": "execute_result",
          "data": {
            "text/plain": [
              "<function matplotlib.pyplot.show(*args, **kw)>"
            ]
          },
          "metadata": {},
          "execution_count": 26
        },
        {
          "output_type": "display_data",
          "data": {
            "text/plain": [
              "<Figure size 432x288 with 1 Axes>"
            ],
            "image/png": "[encoded data removed]"
          },
          "metadata": {
            "needs_background": "light"
          }
        }
      ],
      "source": [
        "plt.figure(0)\n",
        "plt.plot(history.history['accuracy'], label='training accuracy')\n",
        "plt.plot(history.history['val_accuracy'], label='val accuracy')\n",
        "plt.title('Accuracy')\n",
        "plt.xlabel('epoch')\n",
        "plt.ylabel('accuracy')\n",
        "plt.legend()\n",
        "plt.show\n",
        "\n",
        "#3plt.plot(history.history['loss'])\n",
        "#plt.legend(['training'])\n",
        "#plt.title('loss')\n",
        "#plt.xlabel('epoch')\n",
        "#plt.figure(2)\n",
        "#plt.plot(history.history['accuracy'])\n",
        "#plt.legend(['training'])\n",
        "#plt.title('Acurracy')\n",
        "#plt.xlabel('epoch')\n",
        "#plt.show()\n",
        "#score = model.evaluate(X_test, Y_test, verbose=0)\n",
        "#print('Test Score:', score[0])\n",
        "#print('Test Accuracy:', score[1])"
      ]
    },
    {
      "cell_type": "code",
      "source": [
        "#Loss\n",
        "plt.plot(history.history['loss'], label='training loss')\n",
        "plt.plot(history.history['val_loss'], label='val loss')\n",
        "plt.title('Loss')\n",
        "plt.xlabel('epochs')\n",
        "plt.ylabel('loss')\n",
        "plt.legend()\n",
        "plt.show()"
      ],
      "metadata": {
        "colab": {
          "base_uri": "https://localhost:8080/",
          "height": 295
        },
        "id": "BdRozDpEJcxR",
        "outputId": "3d678558-1b7b-43b1-8313-67c13551814a"
      },
      "execution_count": null,
      "outputs": [
        {
          "output_type": "display_data",
          "data": {
            "text/plain": [
              "<Figure size 432x288 with 1 Axes>"
            ],
            "image/png": "[encoded data removed]"
          },
          "metadata": {
            "needs_background": "light"
          }
        }
      ]
    },
    {
      "cell_type": "code",
      "source": [
        "predict_x=model.predict(X_test) \n",
        "classes_x=np.argmax(predict_x,axis=1)"
      ],
      "metadata": {
        "colab": {
          "base_uri": "https://localhost:8080/"
        },
        "id": "twblHcA1KAC6",
        "outputId": "6ded9d9c-950d-475a-bbf1-7333a9db706f"
      },
      "execution_count": null,
      "outputs": [
        {
          "output_type": "stream",
          "name": "stdout",
          "text": [
            "2/2 [==============================] - 1s 298ms/step\n"
          ]
        }
      ]
    },
    {
      "cell_type": "code",
      "source": [
        "predict_x=model.predict(X_test) \n",
        "classes_x=np.argmax(predict_x,axis=1)"
      ],
      "metadata": {
        "colab": {
          "base_uri": "https://localhost:8080/"
        },
        "id": "fqV-6SuiKQLD",
        "outputId": "54a015d9-3886-4cdc-fb54-7e62433fb30e"
      },
      "execution_count": null,
      "outputs": [
        {
          "output_type": "stream",
          "name": "stdout",
          "text": [
            "2/2 [==============================] - 1s 336ms/step\n"
          ]
        }
      ]
    },
    {
      "cell_type": "code",
      "source": [
        "#Eror\n",
        "Y_pred = model.predict_classes(X_test)\n",
        "Y_pred"
      ],
      "metadata": {
        "colab": {
          "base_uri": "https://localhost:8080/",
          "height": 183
        },
        "id": "joSRnHd0R_aa",
        "outputId": "2b268111-da5d-4a32-9c92-184ecca2536c"
      },
      "execution_count": null,
      "outputs": [
        {
          "output_type": "error",
          "ename": "AttributeError",
          "evalue": "ignored",
          "traceback": [
            "\u001b[0;31m---------------------------------------------------------------------------\u001b[0m",
            "\u001b[0;31mAttributeError\u001b[0m                            Traceback (most recent call last)",
            "\u001b[0;32m<ipython-input-30-abd0b9b99a1f>\u001b[0m in \u001b[0;36m<module>\u001b[0;34m\u001b[0m\n\u001b[0;32m----> 1\u001b[0;31m \u001b[0mY_pred\u001b[0m \u001b[0;34m=\u001b[0m \u001b[0mmodel\u001b[0m\u001b[0;34m.\u001b[0m\u001b[0mpredict_classes\u001b[0m\u001b[0;34m(\u001b[0m\u001b[0mX_test\u001b[0m\u001b[0;34m)\u001b[0m\u001b[0;34m\u001b[0m\u001b[0;34m\u001b[0m\u001b[0m\n\u001b[0m\u001b[1;32m      2\u001b[0m \u001b[0mY_pred\u001b[0m\u001b[0;34m\u001b[0m\u001b[0;34m\u001b[0m\u001b[0m\n",
            "\u001b[0;31mAttributeError\u001b[0m: 'Sequential' object has no attribute 'predict_classes'"
          ]
        }
      ]
    },
    {
      "cell_type": "code",
      "source": [
        "#Eror\n",
        "from sklearn.metrics import accuracy_score\n",
        "print(accuracy_score(label, Y_pred))"
      ],
      "metadata": {
        "id": "v7WYdMEGRtGz"
      },
      "execution_count": null,
      "outputs": []
    },
    {
      "cell_type": "code",
      "execution_count": null,
      "metadata": {
        "id": "GtuwWvZt5Qab"
      },
      "outputs": [],
      "source": [
        "#Save Model\n",
        "model.save(\"MY_h5_model_5.h5\")"
      ]
    },
    {
      "cell_type": "code",
      "execution_count": null,
      "metadata": {
        "id": "Cus6drNwHMCF"
      },
      "outputs": [],
      "source": [
        "#Upload Image\n",
        "\n",
        "import tensorflow as tf\n",
        "import tensorflow.keras.utils\n",
        "from google.colab import files\n",
        "\n",
        "uploaded = files.upload()\n",
        "\n",
        "for fn in uploaded.keys():\n",
        "\n",
        "  #predicting images by upload\n",
        "  path = fn\n",
        "  img = keras.utils.load_img(path, target_size = (32, 32))\n",
        "  img = tf.image.rgb_to_grayscale(img)\n",
        "  imgplot = plt.imshow(img)\n",
        "  x = tf.keras.utils.img_to_array(img)\n",
        "  x = np.expand_dims(x, axis = 0)\n",
        "\n",
        "  images = np.vstack([x])\n",
        "  classes = model.predict(images, batch_size = 100)\n",
        "\n",
        "  print(fn)\n",
        "\n",
        "  class_list = os.listdir(X_train)\n",
        "\n",
        "  for j in range(20):\n",
        "    if classes[0][j] == 1. :\n",
        "      print('This image belongs to class', class_list[j-1])\n",
        "      break\n"
      ]
    },
    {
      "cell_type": "code",
      "execution_count": null,
      "metadata": {
        "id": "rJXng2z75Sw5"
      },
      "outputs": [],
      "source": [
        "label = pd.read_csv('/content/gdrive/MyDrive/Traffic Sign Dataset DORA/labels (1).csv',encoding=\"ISO-8859-1\")\n",
        "frameWidth = 640 \n",
        "frameHeight = 480 \n",
        "brightness = 180 \n",
        "threshold = 0.75\n",
        "font = cv2.FONT_HERSHEY_SIMPLEX"
      ]
    },
    {
      "cell_type": "code",
      "execution_count": null,
      "metadata": {
        "id": "pnpyWMC55VhP"
      },
      "outputs": [],
      "source": [
        "# Setup the video camera \n",
        "import keras.models \n",
        "\n",
        "cap = cv2.VideoCapture(0)\n",
        "cap.set(3,frameWidth)\n",
        "cap.set(4,frameHeight)\n",
        "cap.set(10, brightness)\n",
        "\n",
        "# import the trannined model \n",
        "model = keras.models.load_model(\"MY_h5_model_5.h5\")"
      ]
    },
    {
      "cell_type": "code",
      "execution_count": null,
      "metadata": {
        "id": "fVu3SV0y5biE"
      },
      "outputs": [],
      "source": [
        "#Camera testing\n",
        "def equalize(img):\n",
        "    grayimg = cv2.cvtColor(img, cv2.COLOR_BGR2GRAY)\n",
        "    grayimg =cv2.equalizeHist(grayimg)\n",
        "    return grayimg \n",
        "\n",
        "def preprocessing(img):\n",
        "    img = equalize(img)\n",
        "    return img\n",
        "\n",
        "def getCalssName(classNo):\n",
        "    labelss=pd.read_csv(\"/content/gdrive/MyDrive/Traffic Sign Dataset DORA/labels.csv\",encoding='ISO-8859-1')\n",
        "    a=labelss[labelss[\"Classid\"]==data][\"Name\"]\n",
        "    return a\n",
        "\n",
        "\n",
        "while True:\n",
        " \n",
        "    # READ IMAGE\n",
        "    success, imgOrignal = cap.read()\n",
        " \n",
        "    # PROCESS IMAGE\n",
        "    img = np.asarray(imgOrignal) \n",
        "    # img = cv2.resize(img, (32, 32))\n",
        "    img = preprocessing(img)\n",
        "    \n",
        "    cv2.imshow(\"Processed Image\", img)\n",
        "    img = img.reshape(1, 32, 32, 1)\n",
        "    \n",
        "    cv2.putText(imgOrignal, \"CLASS: \" , (20, 35), font, 0.75, (0, 0, 255), 2, cv2.LINE_AA)\n",
        "    cv2.putText(imgOrignal, \"PROBABILITY: \", (20, 75), font, 0.75, (255, 0, 0), 2, cv2.LINE_AA)\n",
        "    \n",
        "    # PREDICT IMAGE\n",
        "    predictions = model.predict(img)\n",
        "    probabilityValue =np.amax(predictions)\n",
        "    classIndex = np.where(predictions == probabilityValue)[1][0]\n",
        "    \n",
        "    if probabilityValue > threshold:\n",
        "        #print(getCalssName(classIndex))\n",
        "        cv2.putText(imgOrignal,str(classIndex)+\" \"+str(getCalssName(classIndex)), (120, 35), font, 0.75, (0, 0, 255), 2, cv2.LINE_AA)\n",
        "        cv2.putText(imgOrignal, str(round(probabilityValue*100,2) )+\"%\", (180, 75), font, 0.75, (255, 0, 0), 2, cv2.LINE_AA)\n",
        "    cv2.imshow(\"Result\", imgOrignal)\n",
        " \n",
        "    if cv2.waitKey(1) & 0xFF == ord('q'):\n",
        "        break"
      ]
    }
  ],
  "metadata": {
    "colab": {
      "provenance": []
    },
    "kernelspec": {
      "display_name": "Python 3",
      "name": "python3"
    },
    "language_info": {
      "name": "python"
    }
  },
  "nbformat": 4,
  "nbformat_minor": 0
}